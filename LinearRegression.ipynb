{
 "cells": [
  {
   "cell_type": "code",
   "execution_count": 2,
   "id": "85f55d35",
   "metadata": {},
   "outputs": [],
   "source": [
    "import pandas as pd\n",
    "import matplotlib.pyplot as plt\n",
    "import seaborn as sns"
   ]
  },
  {
   "cell_type": "code",
   "execution_count": 4,
   "id": "be0b6093",
   "metadata": {},
   "outputs": [
    {
     "data": {
      "text/html": [
       "<div>\n",
       "<style scoped>\n",
       "    .dataframe tbody tr th:only-of-type {\n",
       "        vertical-align: middle;\n",
       "    }\n",
       "\n",
       "    .dataframe tbody tr th {\n",
       "        vertical-align: top;\n",
       "    }\n",
       "\n",
       "    .dataframe thead th {\n",
       "        text-align: right;\n",
       "    }\n",
       "</style>\n",
       "<table border=\"1\" class=\"dataframe\">\n",
       "  <thead>\n",
       "    <tr style=\"text-align: right;\">\n",
       "      <th></th>\n",
       "      <th>gender</th>\n",
       "      <th>race/ethnicity</th>\n",
       "      <th>parental level of education</th>\n",
       "      <th>lunch</th>\n",
       "      <th>test preparation course</th>\n",
       "      <th>math score</th>\n",
       "      <th>reading score</th>\n",
       "      <th>writing score</th>\n",
       "    </tr>\n",
       "  </thead>\n",
       "  <tbody>\n",
       "    <tr>\n",
       "      <th>0</th>\n",
       "      <td>female</td>\n",
       "      <td>group B</td>\n",
       "      <td>bachelor's degree</td>\n",
       "      <td>standard</td>\n",
       "      <td>none</td>\n",
       "      <td>72</td>\n",
       "      <td>72</td>\n",
       "      <td>74</td>\n",
       "    </tr>\n",
       "    <tr>\n",
       "      <th>1</th>\n",
       "      <td>female</td>\n",
       "      <td>group C</td>\n",
       "      <td>some college</td>\n",
       "      <td>standard</td>\n",
       "      <td>completed</td>\n",
       "      <td>69</td>\n",
       "      <td>90</td>\n",
       "      <td>88</td>\n",
       "    </tr>\n",
       "  </tbody>\n",
       "</table>\n",
       "</div>"
      ],
      "text/plain": [
       "   gender race/ethnicity parental level of education     lunch  \\\n",
       "0  female        group B           bachelor's degree  standard   \n",
       "1  female        group C                some college  standard   \n",
       "\n",
       "  test preparation course  math score  reading score  writing score  \n",
       "0                    none          72             72             74  \n",
       "1               completed          69             90             88  "
      ]
     },
     "execution_count": 4,
     "metadata": {},
     "output_type": "execute_result"
    }
   ],
   "source": [
    "data = pd.read_csv('StudentsPerformance.csv')\n",
    "data.head(2)"
   ]
  },
  {
   "cell_type": "code",
   "execution_count": 5,
   "id": "67d74081",
   "metadata": {},
   "outputs": [
    {
     "data": {
      "text/plain": [
       "gender                         0\n",
       "race/ethnicity                 0\n",
       "parental level of education    0\n",
       "lunch                          0\n",
       "test preparation course        0\n",
       "math score                     0\n",
       "reading score                  0\n",
       "writing score                  0\n",
       "dtype: int64"
      ]
     },
     "execution_count": 5,
     "metadata": {},
     "output_type": "execute_result"
    }
   ],
   "source": [
    "data.isnull().sum()"
   ]
  },
  {
   "cell_type": "code",
   "execution_count": 6,
   "id": "7f6ebe78",
   "metadata": {},
   "outputs": [
    {
     "data": {
      "text/plain": [
       "(1000, 8)"
      ]
     },
     "execution_count": 6,
     "metadata": {},
     "output_type": "execute_result"
    }
   ],
   "source": [
    "data.shape"
   ]
  },
  {
   "cell_type": "code",
   "execution_count": 8,
   "id": "78b5bf98",
   "metadata": {},
   "outputs": [
    {
     "data": {
      "text/plain": [
       "np.int64(0)"
      ]
     },
     "execution_count": 8,
     "metadata": {},
     "output_type": "execute_result"
    }
   ],
   "source": [
    "data.duplicated().sum()"
   ]
  },
  {
   "cell_type": "code",
   "execution_count": null,
   "id": "ca1ae7ec",
   "metadata": {},
   "outputs": [
    {
     "data": {
      "text/plain": [
       "gender                          2\n",
       "race/ethnicity                  5\n",
       "parental level of education     6\n",
       "lunch                           2\n",
       "test preparation course         2\n",
       "math score                     81\n",
       "reading score                  72\n",
       "writing score                  77\n",
       "dtype: int64"
      ]
     },
     "execution_count": 10,
     "metadata": {},
     "output_type": "execute_result"
    }
   ],
   "source": [
    "data.nunique() #returns unique value form each column"
   ]
  },
  {
   "cell_type": "code",
   "execution_count": 7,
   "id": "ef7f93a2",
   "metadata": {},
   "outputs": [
    {
     "data": {
      "text/plain": [
       "Index(['gender', 'race/ethnicity', 'parental level of education', 'lunch',\n",
       "       'test preparation course', 'math score', 'reading score',\n",
       "       'writing score'],\n",
       "      dtype='object')"
      ]
     },
     "execution_count": 7,
     "metadata": {},
     "output_type": "execute_result"
    }
   ],
   "source": [
    "data.columns"
   ]
  },
  {
   "cell_type": "code",
   "execution_count": 15,
   "id": "551a1031",
   "metadata": {},
   "outputs": [
    {
     "data": {
      "text/plain": [
       "['gender',\n",
       " 'race/ethnicity',\n",
       " 'parental level of education',\n",
       " 'lunch',\n",
       " 'test preparation course']"
      ]
     },
     "execution_count": 15,
     "metadata": {},
     "output_type": "execute_result"
    }
   ],
   "source": [
    "column = []\n",
    "for x in data:\n",
    "    if data[x].dtypes == 'object':\n",
    "        column.append(x)\n",
    "\n",
    "column"
   ]
  },
  {
   "cell_type": "code",
   "execution_count": 17,
   "id": "58a0aa9e",
   "metadata": {},
   "outputs": [
    {
     "name": "stdout",
     "output_type": "stream",
     "text": [
      "Feature gender\n",
      "mapping {np.int64(0): np.int64(0), np.int64(1): np.int64(1)}\n",
      "Feature race/ethnicity\n",
      "mapping {np.int64(0): np.int64(0), np.int64(1): np.int64(1), np.int64(2): np.int64(2), np.int64(3): np.int64(3), np.int64(4): np.int64(4)}\n",
      "Feature parental level of education\n",
      "mapping {np.int64(0): np.int64(0), np.int64(1): np.int64(1), np.int64(2): np.int64(2), np.int64(3): np.int64(3), np.int64(4): np.int64(4), np.int64(5): np.int64(5)}\n",
      "Feature lunch\n",
      "mapping {np.int64(0): np.int64(0), np.int64(1): np.int64(1)}\n",
      "Feature test preparation course\n",
      "mapping {np.int64(0): np.int64(0), np.int64(1): np.int64(1)}\n"
     ]
    }
   ],
   "source": [
    "from sklearn.preprocessing import LabelEncoder\n",
    "\n",
    "le = LabelEncoder()\n",
    "\n",
    "for x in column:\n",
    "    data[x]=le.fit_transform(data[x])\n",
    "\n",
    "    le_name_mapping = dict(zip(le.classes_, le.transform(le.classes_)))\n",
    "    print('Feature', x)\n",
    "    print('mapping', le_name_mapping)\n"
   ]
  },
  {
   "cell_type": "code",
   "execution_count": 18,
   "id": "7d7f2356",
   "metadata": {},
   "outputs": [
    {
     "data": {
      "text/plain": [
       "{'whiskers': [<matplotlib.lines.Line2D at 0x2e9b4c95d10>,\n",
       "  <matplotlib.lines.Line2D at 0x2e9b4c95e50>],\n",
       " 'caps': [<matplotlib.lines.Line2D at 0x2e9b4c95f90>,\n",
       "  <matplotlib.lines.Line2D at 0x2e9b4c960d0>],\n",
       " 'boxes': [<matplotlib.lines.Line2D at 0x2e9b4c95bd0>],\n",
       " 'medians': [<matplotlib.lines.Line2D at 0x2e9b4c96210>],\n",
       " 'fliers': [<matplotlib.lines.Line2D at 0x2e9b4c96350>],\n",
       " 'means': []}"
      ]
     },
     "execution_count": 18,
     "metadata": {},
     "output_type": "execute_result"
    },
    {
     "data": {
      "image/png": "[encoded data removed]",
      "text/plain": [
       "<Figure size 640x480 with 1 Axes>"
      ]
     },
     "metadata": {},
     "output_type": "display_data"
    }
   ],
   "source": [
    "plt.boxplot(data[\"gender\"])"
   ]
  },
  {
   "cell_type": "code",
   "execution_count": null,
   "id": "0d94714a",
   "metadata": {},
   "outputs": [
    {
     "data": {
      "text/plain": [
       "{'whiskers': [<matplotlib.lines.Line2D at 0x2e9b4d10e10>,\n",
       "  <matplotlib.lines.Line2D at 0x2e9b4d10f50>],\n",
       " 'caps': [<matplotlib.lines.Line2D at 0x2e9b4d11090>,\n",
       "  <matplotlib.lines.Line2D at 0x2e9b4d111d0>],\n",
       " 'boxes': [<matplotlib.lines.Line2D at 0x2e9b4d10cd0>],\n",
       " 'medians': [<matplotlib.lines.Line2D at 0x2e9b4d11310>],\n",
       " 'fliers': [<matplotlib.lines.Line2D at 0x2e9b4d11450>],\n",
       " 'means': []}"
      ]
     },
     "execution_count": 19,
     "metadata": {},
     "output_type": "execute_result"
    },
    {
     "data": {
      "image/png": "[encoded data removed]",
      "text/plain": [
       "<Figure size 640x480 with 1 Axes>"
      ]
     },
     "metadata": {},
     "output_type": "display_data"
    }
   ],
   "source": [
    "plt.boxplot(data['parental level of education'])\n"
   ]
  },
  {
   "cell_type": "code",
   "execution_count": 20,
   "id": "0d5a0daa",
   "metadata": {},
   "outputs": [
    {
     "data": {
      "text/plain": [
       "{'whiskers': [<matplotlib.lines.Line2D at 0x2e9b4d88190>,\n",
       "  <matplotlib.lines.Line2D at 0x2e9b4d882d0>],\n",
       " 'caps': [<matplotlib.lines.Line2D at 0x2e9b4d88410>,\n",
       "  <matplotlib.lines.Line2D at 0x2e9b4d88550>],\n",
       " 'boxes': [<matplotlib.lines.Line2D at 0x2e9b4d88050>],\n",
       " 'medians': [<matplotlib.lines.Line2D at 0x2e9b4d88690>],\n",
       " 'fliers': [<matplotlib.lines.Line2D at 0x2e9b4d887d0>],\n",
       " 'means': []}"
      ]
     },
     "execution_count": 20,
     "metadata": {},
     "output_type": "execute_result"
    },
    {
     "data": {
      "image/png": "[encoded data removed]",
      "text/plain": [
       "<Figure size 640x480 with 1 Axes>"
      ]
     },
     "metadata": {},
     "output_type": "display_data"
    }
   ],
   "source": [
    "plt.boxplot(data['test preparation course'])"
   ]
  },
  {
   "cell_type": "code",
   "execution_count": 21,
   "id": "19834ea2",
   "metadata": {},
   "outputs": [
    {
     "data": {
      "text/plain": [
       "{'whiskers': [<matplotlib.lines.Line2D at 0x2e9b4dc74d0>,\n",
       "  <matplotlib.lines.Line2D at 0x2e9b4dc7610>],\n",
       " 'caps': [<matplotlib.lines.Line2D at 0x2e9b4dc7750>,\n",
       "  <matplotlib.lines.Line2D at 0x2e9b4dc7890>],\n",
       " 'boxes': [<matplotlib.lines.Line2D at 0x2e9b4dc7390>],\n",
       " 'medians': [<matplotlib.lines.Line2D at 0x2e9b4dc79d0>],\n",
       " 'fliers': [<matplotlib.lines.Line2D at 0x2e9b4dc7b10>],\n",
       " 'means': []}"
      ]
     },
     "execution_count": 21,
     "metadata": {},
     "output_type": "execute_result"
    },
    {
     "data": {
      "image/png": "[encoded data removed]",
      "text/plain": [
       "<Figure size 640x480 with 1 Axes>"
      ]
     },
     "metadata": {},
     "output_type": "display_data"
    }
   ],
   "source": [
    "plt.boxplot(data['lunch'])"
   ]
  },
  {
   "cell_type": "code",
   "execution_count": 22,
   "id": "fc2a2461",
   "metadata": {},
   "outputs": [
    {
     "data": {
      "text/plain": [
       "<Axes: >"
      ]
     },
     "execution_count": 22,
     "metadata": {},
     "output_type": "execute_result"
    },
    {
     "data": {
      "image/png": "[encoded data removed]",
      "text/plain": [
       "<Figure size 640x480 with 2 Axes>"
      ]
     },
     "metadata": {},
     "output_type": "display_data"
    }
   ],
   "source": [
    "sns.heatmap(data.corr(), annot = True)"
   ]
  },
  {
   "cell_type": "code",
   "execution_count": 28,
   "id": "e3793d30",
   "metadata": {},
   "outputs": [],
   "source": [
    "data['average score'] = data[['math score', 'reading score','writing score']].mean(axis=1)\n",
    "\n",
    "x = data[['gender', 'parental level of education', 'lunch', 'test preparation course']]\n",
    "y = data['math score']"
   ]
  },
  {
   "cell_type": "code",
   "execution_count": 29,
   "id": "9efadc05",
   "metadata": {},
   "outputs": [
    {
     "data": {
      "text/html": [
       "<div>\n",
       "<style scoped>\n",
       "    .dataframe tbody tr th:only-of-type {\n",
       "        vertical-align: middle;\n",
       "    }\n",
       "\n",
       "    .dataframe tbody tr th {\n",
       "        vertical-align: top;\n",
       "    }\n",
       "\n",
       "    .dataframe thead th {\n",
       "        text-align: right;\n",
       "    }\n",
       "</style>\n",
       "<table border=\"1\" class=\"dataframe\">\n",
       "  <thead>\n",
       "    <tr style=\"text-align: right;\">\n",
       "      <th></th>\n",
       "      <th>gender</th>\n",
       "      <th>parental level of education</th>\n",
       "      <th>lunch</th>\n",
       "      <th>test preparation course</th>\n",
       "    </tr>\n",
       "  </thead>\n",
       "  <tbody>\n",
       "    <tr>\n",
       "      <th>0</th>\n",
       "      <td>0</td>\n",
       "      <td>1</td>\n",
       "      <td>1</td>\n",
       "      <td>1</td>\n",
       "    </tr>\n",
       "    <tr>\n",
       "      <th>1</th>\n",
       "      <td>0</td>\n",
       "      <td>4</td>\n",
       "      <td>1</td>\n",
       "      <td>0</td>\n",
       "    </tr>\n",
       "    <tr>\n",
       "      <th>2</th>\n",
       "      <td>0</td>\n",
       "      <td>3</td>\n",
       "      <td>1</td>\n",
       "      <td>1</td>\n",
       "    </tr>\n",
       "    <tr>\n",
       "      <th>3</th>\n",
       "      <td>1</td>\n",
       "      <td>0</td>\n",
       "      <td>0</td>\n",
       "      <td>1</td>\n",
       "    </tr>\n",
       "    <tr>\n",
       "      <th>4</th>\n",
       "      <td>1</td>\n",
       "      <td>4</td>\n",
       "      <td>1</td>\n",
       "      <td>1</td>\n",
       "    </tr>\n",
       "    <tr>\n",
       "      <th>...</th>\n",
       "      <td>...</td>\n",
       "      <td>...</td>\n",
       "      <td>...</td>\n",
       "      <td>...</td>\n",
       "    </tr>\n",
       "    <tr>\n",
       "      <th>995</th>\n",
       "      <td>0</td>\n",
       "      <td>3</td>\n",
       "      <td>1</td>\n",
       "      <td>0</td>\n",
       "    </tr>\n",
       "    <tr>\n",
       "      <th>996</th>\n",
       "      <td>1</td>\n",
       "      <td>2</td>\n",
       "      <td>0</td>\n",
       "      <td>1</td>\n",
       "    </tr>\n",
       "    <tr>\n",
       "      <th>997</th>\n",
       "      <td>0</td>\n",
       "      <td>2</td>\n",
       "      <td>0</td>\n",
       "      <td>0</td>\n",
       "    </tr>\n",
       "    <tr>\n",
       "      <th>998</th>\n",
       "      <td>0</td>\n",
       "      <td>4</td>\n",
       "      <td>1</td>\n",
       "      <td>0</td>\n",
       "    </tr>\n",
       "    <tr>\n",
       "      <th>999</th>\n",
       "      <td>0</td>\n",
       "      <td>4</td>\n",
       "      <td>0</td>\n",
       "      <td>1</td>\n",
       "    </tr>\n",
       "  </tbody>\n",
       "</table>\n",
       "<p>1000 rows × 4 columns</p>\n",
       "</div>"
      ],
      "text/plain": [
       "     gender  parental level of education  lunch  test preparation course\n",
       "0         0                            1      1                        1\n",
       "1         0                            4      1                        0\n",
       "2         0                            3      1                        1\n",
       "3         1                            0      0                        1\n",
       "4         1                            4      1                        1\n",
       "..      ...                          ...    ...                      ...\n",
       "995       0                            3      1                        0\n",
       "996       1                            2      0                        1\n",
       "997       0                            2      0                        0\n",
       "998       0                            4      1                        0\n",
       "999       0                            4      0                        1\n",
       "\n",
       "[1000 rows x 4 columns]"
      ]
     },
     "execution_count": 29,
     "metadata": {},
     "output_type": "execute_result"
    }
   ],
   "source": [
    "x"
   ]
  },
  {
   "cell_type": "code",
   "execution_count": 30,
   "id": "8ec5973b",
   "metadata": {},
   "outputs": [
    {
     "data": {
      "text/plain": [
       "0      72\n",
       "1      69\n",
       "2      90\n",
       "3      47\n",
       "4      76\n",
       "       ..\n",
       "995    88\n",
       "996    62\n",
       "997    59\n",
       "998    68\n",
       "999    77\n",
       "Name: math score, Length: 1000, dtype: int64"
      ]
     },
     "execution_count": 30,
     "metadata": {},
     "output_type": "execute_result"
    }
   ],
   "source": [
    "y"
   ]
  },
  {
   "cell_type": "code",
   "execution_count": 31,
   "id": "931e13dc",
   "metadata": {},
   "outputs": [],
   "source": [
    "from sklearn.model_selection import train_test_split\n",
    "\n",
    "x_train, x_test, y_train, y_test = train_test_split(x,y, test_size=0.2)"
   ]
  },
  {
   "cell_type": "code",
   "execution_count": 32,
   "id": "9af23bf2",
   "metadata": {},
   "outputs": [
    {
     "name": "stdout",
     "output_type": "stream",
     "text": [
      "(800, 4)\n",
      "(200, 4)\n",
      "(800,)\n",
      "(200,)\n"
     ]
    }
   ],
   "source": [
    "print(x_train.shape)\n",
    "print(x_test.shape)\n",
    "print(y_train.shape)\n",
    "print(y_test.shape)"
   ]
  },
  {
   "cell_type": "code",
   "execution_count": 34,
   "id": "5d4f48a0",
   "metadata": {},
   "outputs": [
    {
     "name": "stdout",
     "output_type": "stream",
     "text": [
      "Beta values : [ 4.93131553 -0.70889188 11.11885537 -5.92520372]\n",
      "Beta zero values :  62.13427648154846\n"
     ]
    }
   ],
   "source": [
    "from sklearn.linear_model import LinearRegression\n",
    "\n",
    "model = LinearRegression()\n",
    "model.fit(x_train, y_train)\n",
    "\n",
    "print('Beta values :', model.coef_)\n",
    "print('Beta zero values : ', model.intercept_)"
   ]
  },
  {
   "cell_type": "code",
   "execution_count": 35,
   "id": "3f4294dc",
   "metadata": {},
   "outputs": [
    {
     "data": {
      "text/html": [
       "<div>\n",
       "<style scoped>\n",
       "    .dataframe tbody tr th:only-of-type {\n",
       "        vertical-align: middle;\n",
       "    }\n",
       "\n",
       "    .dataframe tbody tr th {\n",
       "        vertical-align: top;\n",
       "    }\n",
       "\n",
       "    .dataframe thead th {\n",
       "        text-align: right;\n",
       "    }\n",
       "</style>\n",
       "<table border=\"1\" class=\"dataframe\">\n",
       "  <thead>\n",
       "    <tr style=\"text-align: right;\">\n",
       "      <th></th>\n",
       "      <th>gender</th>\n",
       "      <th>race/ethnicity</th>\n",
       "      <th>parental level of education</th>\n",
       "      <th>lunch</th>\n",
       "      <th>test preparation course</th>\n",
       "      <th>math score</th>\n",
       "      <th>reading score</th>\n",
       "      <th>writing score</th>\n",
       "      <th>average score</th>\n",
       "    </tr>\n",
       "  </thead>\n",
       "  <tbody>\n",
       "    <tr>\n",
       "      <th>0</th>\n",
       "      <td>0</td>\n",
       "      <td>1</td>\n",
       "      <td>1</td>\n",
       "      <td>1</td>\n",
       "      <td>1</td>\n",
       "      <td>72</td>\n",
       "      <td>72</td>\n",
       "      <td>74</td>\n",
       "      <td>72.666667</td>\n",
       "    </tr>\n",
       "    <tr>\n",
       "      <th>1</th>\n",
       "      <td>0</td>\n",
       "      <td>2</td>\n",
       "      <td>4</td>\n",
       "      <td>1</td>\n",
       "      <td>0</td>\n",
       "      <td>69</td>\n",
       "      <td>90</td>\n",
       "      <td>88</td>\n",
       "      <td>82.333333</td>\n",
       "    </tr>\n",
       "    <tr>\n",
       "      <th>2</th>\n",
       "      <td>0</td>\n",
       "      <td>1</td>\n",
       "      <td>3</td>\n",
       "      <td>1</td>\n",
       "      <td>1</td>\n",
       "      <td>90</td>\n",
       "      <td>95</td>\n",
       "      <td>93</td>\n",
       "      <td>92.666667</td>\n",
       "    </tr>\n",
       "    <tr>\n",
       "      <th>3</th>\n",
       "      <td>1</td>\n",
       "      <td>0</td>\n",
       "      <td>0</td>\n",
       "      <td>0</td>\n",
       "      <td>1</td>\n",
       "      <td>47</td>\n",
       "      <td>57</td>\n",
       "      <td>44</td>\n",
       "      <td>49.333333</td>\n",
       "    </tr>\n",
       "    <tr>\n",
       "      <th>4</th>\n",
       "      <td>1</td>\n",
       "      <td>2</td>\n",
       "      <td>4</td>\n",
       "      <td>1</td>\n",
       "      <td>1</td>\n",
       "      <td>76</td>\n",
       "      <td>78</td>\n",
       "      <td>75</td>\n",
       "      <td>76.333333</td>\n",
       "    </tr>\n",
       "  </tbody>\n",
       "</table>\n",
       "</div>"
      ],
      "text/plain": [
       "   gender  race/ethnicity  parental level of education  lunch  \\\n",
       "0       0               1                            1      1   \n",
       "1       0               2                            4      1   \n",
       "2       0               1                            3      1   \n",
       "3       1               0                            0      0   \n",
       "4       1               2                            4      1   \n",
       "\n",
       "   test preparation course  math score  reading score  writing score  \\\n",
       "0                        1          72             72             74   \n",
       "1                        0          69             90             88   \n",
       "2                        1          90             95             93   \n",
       "3                        1          47             57             44   \n",
       "4                        1          76             78             75   \n",
       "\n",
       "   average score  \n",
       "0      72.666667  \n",
       "1      82.333333  \n",
       "2      92.666667  \n",
       "3      49.333333  \n",
       "4      76.333333  "
      ]
     },
     "execution_count": 35,
     "metadata": {},
     "output_type": "execute_result"
    }
   ],
   "source": [
    "data.head()"
   ]
  },
  {
   "cell_type": "code",
   "execution_count": 37,
   "id": "f92df5e3",
   "metadata": {},
   "outputs": [
    {
     "data": {
      "text/plain": [
       "array([70.84145989, 71.83534808, 67.32792813, 64.49236059, 54.791289  ,\n",
       "       61.14038829, 76.76666361, 65.91014436, 69.42367612, 58.58981706,\n",
       "       67.32792813, 61.14038829, 62.13427648, 58.30482076, 57.59592887,\n",
       "       75.34887984, 74.63998796, 73.25313185, 69.70867243, 72.54423996,\n",
       "       71.55035178, 65.91014436, 69.70867243, 59.01371264, 69.42367612,\n",
       "       68.71478424, 71.55035178, 76.76666361, 73.25313185, 57.59592887,\n",
       "       58.30482076, 61.14038829, 69.42367612, 72.25924366, 69.42367612,\n",
       "       58.30482076, 54.08239711, 77.47555549, 74.63998796, 74.63998796,\n",
       "       71.55035178, 69.70867243, 68.71478424, 75.34887984, 59.72260453,\n",
       "       64.49236059, 70.84145989, 70.41756431, 66.35670013, 59.72260453,\n",
       "       72.25924366, 69.70867243, 76.76666361, 71.55035178, 55.50018088,\n",
       "       58.30482076, 64.49236059, 69.70867243, 68.71478424, 59.72260453,\n",
       "       59.29870894, 60.43149641, 65.91014436, 63.78346871, 64.49236059,\n",
       "       59.29870894, 58.30482076, 63.52113259, 64.49236059, 68.71478424,\n",
       "       58.30482076, 78.18444738, 56.20907277, 75.34887984, 65.20125248,\n",
       "       69.42367612, 71.12645619, 56.20907277, 60.00760083, 70.41756431,\n",
       "       67.32792813, 71.83534808, 66.61903625, 70.41756431, 58.30482076,\n",
       "       63.78346871, 69.42367612, 65.64780824, 59.01371264, 54.791289  ,\n",
       "       67.32792813, 67.06559201, 57.59592887, 69.42367612, 69.42367612,\n",
       "       65.20125248, 64.49236059, 53.37350523, 74.63998796, 54.08239711,\n",
       "       73.25313185, 69.70867243, 72.25924366, 77.47555549, 52.66461334,\n",
       "       64.49236059, 73.25313185, 73.25313185, 70.41756431, 69.42367612,\n",
       "       70.84145989, 72.54423996, 71.55035178, 64.49236059, 72.25924366,\n",
       "       57.59592887, 67.32792813, 72.25924366, 63.78346871, 64.23002447,\n",
       "       52.66461334, 52.66461334, 52.66461334, 56.20907277, 63.78346871,\n",
       "       64.93891636, 73.25313185, 74.63998796, 71.12645619, 62.13427648,\n",
       "       65.91014436, 73.25313185, 68.71478424, 67.32792813, 64.49236059,\n",
       "       64.93891636, 72.54423996, 69.70867243, 67.32792813, 65.64780824,\n",
       "       60.43149641, 58.30482076, 72.54423996, 70.84145989, 71.83534808,\n",
       "       71.83534808, 76.76666361, 69.42367612, 60.43149641, 58.30482076,\n",
       "       58.58981706, 76.76666361, 67.32792813, 70.84145989, 76.76666361,\n",
       "       78.18444738, 70.84145989, 61.4253846 , 67.32792813, 65.64780824,\n",
       "       71.83534808, 60.71649271, 76.76666361, 70.84145989, 67.32792813,\n",
       "       61.14038829, 54.791289  , 60.71649271, 75.34887984, 65.91014436,\n",
       "       72.25924366, 52.66461334, 61.14038829, 53.37350523, 64.49236059,\n",
       "       63.78346871, 73.25313185, 66.61903625, 70.41756431, 72.25924366,\n",
       "       68.71478424, 54.791289  , 66.35670013, 68.71478424, 65.20125248,\n",
       "       76.76666361, 59.72260453, 78.18444738, 75.34887984, 72.25924366,\n",
       "       70.84145989, 54.08239711, 59.72260453, 58.30482076, 70.13256801,\n",
       "       65.91014436, 78.18444738, 54.791289  , 69.42367612, 58.58981706])"
      ]
     },
     "execution_count": 37,
     "metadata": {},
     "output_type": "execute_result"
    }
   ],
   "source": [
    "y_pred = model.predict(x_test)\n",
    "\n",
    "y_pred"
   ]
  },
  {
   "cell_type": "code",
   "execution_count": 38,
   "id": "badd7066",
   "metadata": {},
   "outputs": [
    {
     "data": {
      "text/html": [
       "<div>\n",
       "<style scoped>\n",
       "    .dataframe tbody tr th:only-of-type {\n",
       "        vertical-align: middle;\n",
       "    }\n",
       "\n",
       "    .dataframe tbody tr th {\n",
       "        vertical-align: top;\n",
       "    }\n",
       "\n",
       "    .dataframe thead th {\n",
       "        text-align: right;\n",
       "    }\n",
       "</style>\n",
       "<table border=\"1\" class=\"dataframe\">\n",
       "  <thead>\n",
       "    <tr style=\"text-align: right;\">\n",
       "      <th></th>\n",
       "      <th>gender</th>\n",
       "      <th>parental level of education</th>\n",
       "      <th>lunch</th>\n",
       "      <th>test preparation course</th>\n",
       "      <th>actual</th>\n",
       "      <th>predicted</th>\n",
       "    </tr>\n",
       "  </thead>\n",
       "  <tbody>\n",
       "    <tr>\n",
       "      <th>946</th>\n",
       "      <td>1</td>\n",
       "      <td>2</td>\n",
       "      <td>1</td>\n",
       "      <td>1</td>\n",
       "      <td>70.841460</td>\n",
       "      <td>70.841460</td>\n",
       "    </tr>\n",
       "    <tr>\n",
       "      <th>220</th>\n",
       "      <td>0</td>\n",
       "      <td>2</td>\n",
       "      <td>1</td>\n",
       "      <td>0</td>\n",
       "      <td>71.835348</td>\n",
       "      <td>71.835348</td>\n",
       "    </tr>\n",
       "    <tr>\n",
       "      <th>945</th>\n",
       "      <td>0</td>\n",
       "      <td>0</td>\n",
       "      <td>1</td>\n",
       "      <td>1</td>\n",
       "      <td>67.327928</td>\n",
       "      <td>67.327928</td>\n",
       "    </tr>\n",
       "    <tr>\n",
       "      <th>672</th>\n",
       "      <td>0</td>\n",
       "      <td>4</td>\n",
       "      <td>1</td>\n",
       "      <td>1</td>\n",
       "      <td>64.492361</td>\n",
       "      <td>64.492361</td>\n",
       "    </tr>\n",
       "    <tr>\n",
       "      <th>548</th>\n",
       "      <td>0</td>\n",
       "      <td>2</td>\n",
       "      <td>0</td>\n",
       "      <td>1</td>\n",
       "      <td>54.791289</td>\n",
       "      <td>54.791289</td>\n",
       "    </tr>\n",
       "    <tr>\n",
       "      <th>...</th>\n",
       "      <td>...</td>\n",
       "      <td>...</td>\n",
       "      <td>...</td>\n",
       "      <td>...</td>\n",
       "      <td>...</td>\n",
       "      <td>...</td>\n",
       "    </tr>\n",
       "    <tr>\n",
       "      <th>765</th>\n",
       "      <td>0</td>\n",
       "      <td>2</td>\n",
       "      <td>1</td>\n",
       "      <td>1</td>\n",
       "      <td>65.910144</td>\n",
       "      <td>65.910144</td>\n",
       "    </tr>\n",
       "    <tr>\n",
       "      <th>343</th>\n",
       "      <td>1</td>\n",
       "      <td>0</td>\n",
       "      <td>1</td>\n",
       "      <td>0</td>\n",
       "      <td>78.184447</td>\n",
       "      <td>78.184447</td>\n",
       "    </tr>\n",
       "    <tr>\n",
       "      <th>760</th>\n",
       "      <td>0</td>\n",
       "      <td>2</td>\n",
       "      <td>0</td>\n",
       "      <td>1</td>\n",
       "      <td>54.791289</td>\n",
       "      <td>54.791289</td>\n",
       "    </tr>\n",
       "    <tr>\n",
       "      <th>370</th>\n",
       "      <td>1</td>\n",
       "      <td>4</td>\n",
       "      <td>1</td>\n",
       "      <td>1</td>\n",
       "      <td>69.423676</td>\n",
       "      <td>69.423676</td>\n",
       "    </tr>\n",
       "    <tr>\n",
       "      <th>722</th>\n",
       "      <td>0</td>\n",
       "      <td>5</td>\n",
       "      <td>0</td>\n",
       "      <td>0</td>\n",
       "      <td>58.589817</td>\n",
       "      <td>58.589817</td>\n",
       "    </tr>\n",
       "  </tbody>\n",
       "</table>\n",
       "<p>200 rows × 6 columns</p>\n",
       "</div>"
      ],
      "text/plain": [
       "     gender  parental level of education  lunch  test preparation course  \\\n",
       "946       1                            2      1                        1   \n",
       "220       0                            2      1                        0   \n",
       "945       0                            0      1                        1   \n",
       "672       0                            4      1                        1   \n",
       "548       0                            2      0                        1   \n",
       "..      ...                          ...    ...                      ...   \n",
       "765       0                            2      1                        1   \n",
       "343       1                            0      1                        0   \n",
       "760       0                            2      0                        1   \n",
       "370       1                            4      1                        1   \n",
       "722       0                            5      0                        0   \n",
       "\n",
       "        actual  predicted  \n",
       "946  70.841460  70.841460  \n",
       "220  71.835348  71.835348  \n",
       "945  67.327928  67.327928  \n",
       "672  64.492361  64.492361  \n",
       "548  54.791289  54.791289  \n",
       "..         ...        ...  \n",
       "765  65.910144  65.910144  \n",
       "343  78.184447  78.184447  \n",
       "760  54.791289  54.791289  \n",
       "370  69.423676  69.423676  \n",
       "722  58.589817  58.589817  \n",
       "\n",
       "[200 rows x 6 columns]"
      ]
     },
     "execution_count": 38,
     "metadata": {},
     "output_type": "execute_result"
    }
   ],
   "source": [
    "x_test['actual'] = y_pred\n",
    "x_test['predicted'] = y_pred\n",
    "\n",
    "x_test"
   ]
  },
  {
   "cell_type": "code",
   "execution_count": 39,
   "id": "1376d774",
   "metadata": {},
   "outputs": [
    {
     "data": {
      "text/plain": [
       "13.25994908221904"
      ]
     },
     "execution_count": 39,
     "metadata": {},
     "output_type": "execute_result"
    }
   ],
   "source": [
    "from sklearn.metrics import root_mean_squared_error\n",
    "\n",
    "rmse = root_mean_squared_error(y_test, y_pred)\n",
    "rmse"
   ]
  },
  {
   "cell_type": "code",
   "execution_count": 40,
   "id": "00e89214",
   "metadata": {},
   "outputs": [
    {
     "data": {
      "text/plain": [
       "['model.pkl']"
      ]
     },
     "execution_count": 40,
     "metadata": {},
     "output_type": "execute_result"
    }
   ],
   "source": [
    "import joblib\n",
    "\n",
    "joblib.dump(model, 'model.pkl')"
   ]
  },
  {
   "cell_type": "code",
   "execution_count": null,
   "id": "7262c22e",
   "metadata": {},
   "outputs": [],
   "source": []
  }
 ],
 "metadata": {
  "kernelspec": {
   "display_name": "base",
   "language": "python",
   "name": "python3"
  },
  "language_info": {
   "codemirror_mode": {
    "name": "ipython",
    "version": 3
   },
   "file_extension": ".py",
   "mimetype": "text/x-python",
   "name": "python",
   "nbconvert_exporter": "python",
   "pygments_lexer": "ipython3",
   "version": "3.13.5"
  }
 },
 "nbformat": 4,
 "nbformat_minor": 5
}
